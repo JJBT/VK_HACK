{
 "cells": [
  {
   "cell_type": "code",
   "execution_count": 43,
   "metadata": {},
   "outputs": [],
   "source": [
    "from keras.preprocessing.image import ImageDataGenerator, img_to_array, load_img\n",
    "import numpy as np\n",
    "import cv2\n",
    "import os\n",
    "from PIL import Image\n",
    "\n",
    "PATH_TO_ORIGINAL = 'C:/Users/Владимир/Desktop/Original/'\n",
    "PATH_TO_AUGMENTED = 'C:/Users/Владимир/Desktop/Augmented/'\n",
    "PATH_TO_TEST = 'C:/Users/Владимир/Desktop/Testing/'"
   ]
  },
  {
   "cell_type": "code",
   "execution_count": 44,
   "metadata": {},
   "outputs": [],
   "source": [
    "data_gen = ImageDataGenerator(rotation_range=10, width_shift_range=0.1, height_shift_range=0.1,\n",
    "                              shear_range=0.1, zoom_range=0.1, fill_mode='constant', horizontal_flip=True)\n",
    "\n",
    "for file_name in os.listdir(PATH_TO_AUGMENTED):\n",
    "    file_path = PATH_TO_AUGMENTED + file_name\n",
    "    try:\n",
    "        if os.path.isfile(file_path):\n",
    "            os.unlink(file_path)\n",
    "    except Exception as exception:\n",
    "        print(exception)\n",
    "\n",
    "for file_name in os.listdir(PATH_TO_ORIGINAL):\n",
    "    if file_name.endswith('.jpg'):\n",
    "        img_file = load_img(PATH_TO_ORIGINAL + file_name, target_size=(210, 260))\n",
    "        img_array = np.expand_dims(img_to_array(img_file), axis=0)\n",
    "\n",
    "        aug_count = 1\n",
    "        for batch in data_gen.flow(img_array, batch_size=1, save_to_dir=PATH_TO_AUGMENTED,\n",
    "                                   save_prefix=os.path.splitext(file_name)[0] + '_aug', save_format='jpg'):\n",
    "            aug_count += 1\n",
    "            if aug_count > 100:\n",
    "                break"
   ]
  },
  {
   "cell_type": "code",
   "execution_count": 45,
   "metadata": {},
   "outputs": [],
   "source": [
    "face_cascades = cv2.CascadeClassifier('cascade_frontal_face_default.xml')\n",
    "recognizer = cv2.face.LBPHFaceRecognizer_create(1, 8, 8, 8, 123)\n",
    "\n",
    "images, labels = [], []\n",
    "image_paths = [os.path.join(PATH_TO_AUGMENTED, file_name) for file_name in os.listdir(PATH_TO_AUGMENTED)]\n",
    "\n",
    "if face_cascades.empty():\n",
    "    raise Exception('cascade is empty')\n",
    "\n",
    "labels_to_names = {0: 'chaikovsky', 1: 'rahmaninov', 2: 'shostakovich'}\n",
    "\n",
    "for image_path in image_paths:\n",
    "    image = np.array(Image.open(image_path).convert('L'), 'uint8')\n",
    "    person_label = int(os.path.split(image_path)[1].split('_')[0])\n",
    "\n",
    "    face = face_cascades.detectMultiScale(image, scaleFactor=1.1, minNeighbors=5, minSize=(30, 30))\n",
    "    for (x_margin, y_margin, face_width, face_height) in face:\n",
    "        images.append(image[y_margin: y_margin + face_height, x_margin: x_margin + face_width])\n",
    "        labels.append(person_label)\n",
    "\n",
    "        cv2.imshow('', image[y_margin: y_margin + face_height, x_margin: x_margin + face_width])\n",
    "        cv2.waitKey(50)\n",
    "\n",
    "cv2.destroyAllWindows()\n",
    "recognizer.train(images, np.array(labels))"
   ]
  },
  {
   "cell_type": "code",
   "execution_count": 46,
   "metadata": {},
   "outputs": [
    {
     "name": "stdout",
     "output_type": "stream",
     "text": [
      "chaikovsky is correctly recognized with confidence 52.64853440291559\n",
      "chaikovsky is correctly recognized with confidence 57.269449550377985\n",
      "rahmaninov is correctly recognized with confidence 57.819462550064145\n",
      "rahmaninov is correctly recognized with confidence 70.42716694709705\n",
      "shostakovich is correctly recognized with confidence 65.05135226667434\n",
      "shostakovich is correctly recognized with confidence 60.112786579542\n"
     ]
    }
   ],
   "source": [
    "image_paths = [os.path.join(PATH_TO_TEST, file_name) for file_name in os.listdir(PATH_TO_TEST)]\n",
    "\n",
    "for image_path in image_paths:\n",
    "    image = np.array(Image.open(image_path).convert('L'), 'uint8')\n",
    "    face = face_cascades.detectMultiScale(image, scaleFactor=1.1, minNeighbors=5, minSize=(30, 30))\n",
    "\n",
    "    for (x_margin, y_margin, face_width, face_height) in face:\n",
    "        person_label_predicted, conf = \\\n",
    "            recognizer.predict(image[y_margin: y_margin + face_height, x_margin: x_margin + face_width])\n",
    "\n",
    "        person_label_actual = int(os.path.split(image_path)[1].split('_')[0])\n",
    "        if person_label_actual == person_label_predicted:\n",
    "            print('{} is correctly recognized with confidence {}'\n",
    "                  .format(labels_to_names[person_label_actual], conf))\n",
    "        else:\n",
    "            print('{} is incorrectly recognized as {}'.format(labels_to_names[person_label_actual],\n",
    "                                                              labels_to_names[person_label_predicted]))\n",
    "        cv2.imshow('recognizing face', image[y_margin: y_margin + face_height, x_margin: x_margin + face_width])\n",
    "        cv2.waitKey(2000)\n",
    "        \n",
    "cv2.destroyAllWindows()"
   ]
  },
  {
   "cell_type": "code",
   "execution_count": 47,
   "metadata": {},
   "outputs": [],
   "source": [
    "recognizer.write('Models/recognizer.xml')"
   ]
  },
  {
   "cell_type": "code",
   "execution_count": 48,
   "metadata": {},
   "outputs": [],
   "source": [
    "updated_recognizer = cv2.face.LBPHFaceRecognizer_create(1, 8, 8, 8, 123)"
   ]
  },
  {
   "cell_type": "code",
   "execution_count": 58,
   "metadata": {},
   "outputs": [],
   "source": [
    "updated_recognizer.read('Models/recognizer.xml')"
   ]
  },
  {
   "cell_type": "code",
   "execution_count": 59,
   "metadata": {},
   "outputs": [
    {
     "name": "stdout",
     "output_type": "stream",
     "text": [
      "chaikovsky is correctly recognized with confidence 52.64853440291559\n"
     ]
    }
   ],
   "source": [
    "image_path = 'C:/Users/Владимир/Desktop/Testing/0_chaikovsky_A.jpg'\n",
    "\n",
    "image = np.array(Image.open(image_path).convert('L'), 'uint8')\n",
    "face = face_cascades.detectMultiScale(image, scaleFactor=1.1, minNeighbors=5, minSize=(30, 30))\n",
    "\n",
    "for (x_margin, y_margin, face_width, face_height) in face:\n",
    "    person_label_predicted, conf = \\\n",
    "        updated_recognizer.predict(image[y_margin: y_margin + face_height, x_margin: x_margin + face_width])\n",
    "\n",
    "    person_label_actual = int(os.path.split(image_path)[1].split('_')[0])\n",
    "    if person_label_actual == person_label_predicted:\n",
    "        print('{} is correctly recognized with confidence {}'\n",
    "              .format(labels_to_names[person_label_actual], conf))\n",
    "    else:\n",
    "        print('{} is incorrectly recognized as {}'.format(labels_to_names[person_label_actual],\n",
    "                                                          labels_to_names[person_label_predicted]))\n",
    "    cv2.imshow('recognizing face', image[y_margin: y_margin + face_height, x_margin: x_margin + face_width])\n",
    "    cv2.waitKey(2000)\n",
    "    \n",
    "cv2.destroyAllWindows()"
   ]
  },
  {
   "cell_type": "code",
   "execution_count": 54,
   "metadata": {},
   "outputs": [],
   "source": []
  },
  {
   "cell_type": "code",
   "execution_count": null,
   "metadata": {},
   "outputs": [],
   "source": []
  }
 ],
 "metadata": {
  "kernelspec": {
   "display_name": "Python 3",
   "language": "python",
   "name": "python3"
  },
  "language_info": {
   "codemirror_mode": {
    "name": "ipython",
    "version": 3
   },
   "file_extension": ".py",
   "mimetype": "text/x-python",
   "name": "python",
   "nbconvert_exporter": "python",
   "pygments_lexer": "ipython3",
   "version": "3.6.7"
  }
 },
 "nbformat": 4,
 "nbformat_minor": 2
}
